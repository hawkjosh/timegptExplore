{
 "cells": [
  {
   "cell_type": "code",
   "execution_count": 1,
   "metadata": {},
   "outputs": [
    {
     "data": {
      "text/plain": [
       "True"
      ]
     },
     "execution_count": 1,
     "metadata": {},
     "output_type": "execute_result"
    }
   ],
   "source": [
    "import os\n",
    "\n",
    "import pandas as pd\n",
    "import numpy as np\n",
    "\n",
    "from UsageFetch import refreshUsageData\n",
    "from dotenv import load_dotenv\n",
    "from nixtlats import TimeGPT\n",
    "\n",
    "load_dotenv()"
   ]
  },
  {
   "cell_type": "code",
   "execution_count": 2,
   "metadata": {},
   "outputs": [
    {
     "name": "stderr",
     "output_type": "stream",
     "text": [
      "INFO:nixtlats.timegpt:Happy Forecasting! :), If you have questions or need support, please email ops@nixtla.io\n"
     ]
    },
    {
     "data": {
      "text/plain": [
       "True"
      ]
     },
     "execution_count": 2,
     "metadata": {},
     "output_type": "execute_result"
    }
   ],
   "source": [
    "timegpt = TimeGPT(token=os.getenv(\"TIMEGPT_TOKEN\"))\n",
    "timegpt.validate_token()"
   ]
  },
  {
   "cell_type": "code",
   "execution_count": 3,
   "metadata": {},
   "outputs": [
    {
     "name": "stdout",
     "output_type": "stream",
     "text": [
      "No new usage data detected. Token usage remains the same.\n",
      "\n",
      "\u001b[97m= = = = = = = = = = = = = = = = = = = = = = = = = = = = = = = = = = = = = = = = = = \u001b[0m\n",
      "\n",
      "          \u001b[97mAPI CALLS:  \u001b[0m\u001b[1m\u001b[91m47\u001b[0m\u001b[1m\u001b[97m   ||   \u001b[0m\u001b[97mTOKENS:  \u001b[0m\u001b[1m\u001b[91m229260\u001b[0m\u001b[1m\u001b[97m   ||   \u001b[0m\u001b[97mSPENT:  \u001b[0m\u001b[1m\u001b[91m380.02\u001b[0m          \n",
      "\n",
      "\u001b[97m= = = = = = = = = = = = = = = = = = = = = = = = = = = = = = = = = = = = = = = = = = \u001b[0m\n",
      "\u001b[?25h"
     ]
    }
   ],
   "source": [
    "refreshUsageData()"
   ]
  },
  {
   "cell_type": "code",
   "execution_count": null,
   "metadata": {},
   "outputs": [],
   "source": [
    "bdSample2 = pd.read_csv(\"billing_data_sample2.csv\")\n",
    "\n",
    "bdSample2"
   ]
  },
  {
   "cell_type": "code",
   "execution_count": null,
   "metadata": {},
   "outputs": [],
   "source": [
    "bdSample2[\"TimePeriod\"] = pd.to_datetime(bdSample2[\"TimePeriod\"]).dt.tz_localize(None)"
   ]
  },
  {
   "cell_type": "code",
   "execution_count": null,
   "metadata": {},
   "outputs": [],
   "source": [
    "bdSample2"
   ]
  },
  {
   "cell_type": "code",
   "execution_count": null,
   "metadata": {},
   "outputs": [],
   "source": [
    "bdSample2Temp = bdSample2.drop(columns=[\"Tenant\"])"
   ]
  },
  {
   "cell_type": "code",
   "execution_count": null,
   "metadata": {},
   "outputs": [],
   "source": [
    "bdSample2Temp"
   ]
  },
  {
   "cell_type": "code",
   "execution_count": null,
   "metadata": {},
   "outputs": [],
   "source": [
    "bdSample2Temp.to_csv(\"billing_data_sample2_temp.csv\", index=False)"
   ]
  },
  {
   "cell_type": "code",
   "execution_count": null,
   "metadata": {},
   "outputs": [],
   "source": []
  },
  {
   "cell_type": "code",
   "execution_count": null,
   "metadata": {},
   "outputs": [],
   "source": []
  },
  {
   "cell_type": "code",
   "execution_count": null,
   "metadata": {},
   "outputs": [],
   "source": [
    "data = pd.read_csv(\"billing_data_sample2_temp.csv\")\n",
    "data"
   ]
  },
  {
   "cell_type": "code",
   "execution_count": null,
   "metadata": {},
   "outputs": [],
   "source": [
    "anomalies = timegpt.detect_anomalies(data, time_col=\"TimePeriod\", target_col=\"ProratedQuantity\")"
   ]
  },
  {
   "cell_type": "code",
   "execution_count": null,
   "metadata": {},
   "outputs": [],
   "source": [
    "refreshUsageData()"
   ]
  },
  {
   "cell_type": "code",
   "execution_count": null,
   "metadata": {},
   "outputs": [],
   "source": [
    "anomalies"
   ]
  },
  {
   "cell_type": "code",
   "execution_count": null,
   "metadata": {},
   "outputs": [],
   "source": [
    "anomalies[anomalies[\"anomaly\"] == 1]"
   ]
  },
  {
   "cell_type": "code",
   "execution_count": null,
   "metadata": {},
   "outputs": [],
   "source": [
    "timegpt.plot(data, anomalies, time_col=\"TimePeriod\", target_col=\"ProratedQuantity\")"
   ]
  },
  {
   "cell_type": "code",
   "execution_count": null,
   "metadata": {},
   "outputs": [],
   "source": [
    "level = [99, 90, 99.99]\n",
    "forecast = timegpt.forecast(\n",
    "    data,\n",
    "    h=1,\n",
    "    time_col=\"TimePeriod\",\n",
    "    target_col=\"ProratedQuantity\",\n",
    "    freq=\"D\",\n",
    "    add_history=True,\n",
    "    level=[99, 90, 99.99],\n",
    ")\n",
    "\n",
    "forecast = forecast.merge(data)\n",
    "for lv in level:\n",
    "    forecast[f\"anomaly_{lv}\"] = (\n",
    "        forecast[\"ProratedQuantity\"] > forecast[f\"TimeGPT-hi-{lv}\"]\n",
    "    ) | (forecast[\"ProratedQuantity\"] < forecast[f\"TimeGPT-lo-{lv}\"])\n",
    "    forecast[f\"anomaly_{lv}\"] = forecast[f\"anomaly_{lv}\"].astype(np.int64)"
   ]
  },
  {
   "cell_type": "code",
   "execution_count": null,
   "metadata": {},
   "outputs": [],
   "source": [
    "refreshUsageData()"
   ]
  },
  {
   "cell_type": "code",
   "execution_count": null,
   "metadata": {},
   "outputs": [],
   "source": [
    "pd.testing.assert_series_equal(\n",
    "    forecast[\"anomaly_99\"],\n",
    "    anomalies.merge(data)[\"anomaly\"],\n",
    "    check_index=False,\n",
    "    check_names=False\n",
    ")"
   ]
  },
  {
   "cell_type": "code",
   "execution_count": null,
   "metadata": {},
   "outputs": [],
   "source": [
    "anomalies = timegpt.detect_anomalies(\n",
    "    data, time_col=\"TimePeriod\", target_col=\"ProratedQuantity\", freq=\"D\", level=90\n",
    ")\n",
    "timegpt.plot(data, anomalies, time_col=\"TimePeriod\", target_col=\"ProratedQuantity\")"
   ]
  },
  {
   "cell_type": "code",
   "execution_count": null,
   "metadata": {},
   "outputs": [],
   "source": [
    "refreshUsageData()"
   ]
  },
  {
   "cell_type": "code",
   "execution_count": null,
   "metadata": {},
   "outputs": [],
   "source": [
    "pd.testing.assert_series_equal(\n",
    "    forecast[\"anomaly_90\"],\n",
    "    anomalies.merge(data)[\"anomaly\"],\n",
    "    check_index=False,\n",
    "    check_names=False,\n",
    ")"
   ]
  },
  {
   "cell_type": "code",
   "execution_count": null,
   "metadata": {},
   "outputs": [],
   "source": [
    "anomalies = timegpt.detect_anomalies(\n",
    "    data, time_col=\"TimePeriod\", target_col=\"ProratedQuantity\", freq=\"D\", level=99.99\n",
    ")\n",
    "timegpt.plot(data, anomalies, time_col=\"TimePeriod\", target_col=\"ProratedQuantity\")"
   ]
  },
  {
   "cell_type": "code",
   "execution_count": null,
   "metadata": {},
   "outputs": [],
   "source": [
    "refreshUsageData()"
   ]
  },
  {
   "cell_type": "code",
   "execution_count": null,
   "metadata": {},
   "outputs": [],
   "source": [
    "pd.testing.assert_series_equal(\n",
    "    forecast[\"anomaly_99.99\"],\n",
    "    anomalies.merge(data)[\"anomaly\"],\n",
    "    check_index=False,\n",
    "    check_names=False,\n",
    ")"
   ]
  },
  {
   "cell_type": "code",
   "execution_count": null,
   "metadata": {},
   "outputs": [],
   "source": [
    "level = [99, 90, 99.99]\n",
    "forecastWithDF = timegpt.forecast(\n",
    "    data,\n",
    "    h=1,\n",
    "    time_col=\"TimePeriod\",\n",
    "    target_col=\"ProratedQuantity\",\n",
    "    freq=\"D\",\n",
    "    add_history=True,\n",
    "    date_features=True,\n",
    "    level=[99, 90, 99.99],\n",
    ")\n",
    "\n",
    "forecastWithDF = forecastWithDF.merge(data)\n",
    "for lv in level:\n",
    "    forecastWithDF[f\"anomaly_{lv}\"] = (\n",
    "        forecastWithDF[\"ProratedQuantity\"] > forecastWithDF[f\"TimeGPT-hi-{lv}\"]\n",
    "    ) | (forecastWithDF[\"ProratedQuantity\"] < forecastWithDF[f\"TimeGPT-lo-{lv}\"])\n",
    "    forecastWithDF[f\"anomaly_{lv}\"] = forecastWithDF[f\"anomaly_{lv}\"].astype(np.int64)"
   ]
  },
  {
   "cell_type": "code",
   "execution_count": null,
   "metadata": {},
   "outputs": [],
   "source": [
    "refreshUsageData()"
   ]
  },
  {
   "cell_type": "code",
   "execution_count": null,
   "metadata": {},
   "outputs": [],
   "source": [
    "anomaliesWithDF = timegpt.detect_anomalies(\n",
    "    data,\n",
    "    time_col=\"TimePeriod\",\n",
    "    target_col=\"ProratedQuantity\",\n",
    "    freq=\"D\",\n",
    "    date_features=True,\n",
    "    level=99.99,\n",
    ")\n",
    "timegpt.plot(\n",
    "    data, anomaliesWithDF, time_col=\"TimePeriod\", target_col=\"ProratedQuantity\"\n",
    ")"
   ]
  },
  {
   "cell_type": "code",
   "execution_count": null,
   "metadata": {},
   "outputs": [],
   "source": [
    "refreshUsageData()"
   ]
  },
  {
   "cell_type": "code",
   "execution_count": null,
   "metadata": {},
   "outputs": [],
   "source": [
    "pd.testing.assert_series_equal(\n",
    "    forecastWithDF[\"TimeGPT-lo-99.99\"],\n",
    "    anomaliesWithDF.merge(data)[\"TimeGPT-lo-99.99\"],\n",
    "    check_index=False,\n",
    "    check_names=False,\n",
    "    rtol=1,\n",
    "    atol=1,\n",
    ")"
   ]
  }
 ],
 "metadata": {
  "kernelspec": {
   "display_name": ".venv",
   "language": "python",
   "name": "python3"
  },
  "language_info": {
   "codemirror_mode": {
    "name": "ipython",
    "version": 3
   },
   "file_extension": ".py",
   "mimetype": "text/x-python",
   "name": "python",
   "nbconvert_exporter": "python",
   "pygments_lexer": "ipython3",
   "version": "3.12.2"
  }
 },
 "nbformat": 4,
 "nbformat_minor": 2
}
