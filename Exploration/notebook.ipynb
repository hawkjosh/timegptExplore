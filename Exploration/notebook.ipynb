{
 "cells": [
  {
   "cell_type": "code",
   "execution_count": 1,
   "metadata": {},
   "outputs": [],
   "source": [
    "import os\n",
    "import json\n",
    "import time\n",
    "import shelve\n",
    "import requests\n",
    "from dotenv import load_dotenv\n",
    "\n",
    "from UsageDisplay import showTokenUsage\n",
    "from SpecialPrint import printSp, Style, Color"
   ]
  },
  {
   "cell_type": "code",
   "execution_count": 2,
   "metadata": {},
   "outputs": [
    {
     "data": {
      "text/plain": [
       "True"
      ]
     },
     "execution_count": 2,
     "metadata": {},
     "output_type": "execute_result"
    }
   ],
   "source": [
    "load_dotenv()"
   ]
  },
  {
   "cell_type": "code",
   "execution_count": 3,
   "metadata": {},
   "outputs": [],
   "source": [
    "url = os.getenv(\"USAGE_URL\")\n",
    "\n",
    "def fetchData():\n",
    "  response = requests.get(url)\n",
    "  if response.status_code == 200:\n",
    "    return response.json()\n",
    "  return None"
   ]
  },
  {
   "cell_type": "code",
   "execution_count": 4,
   "metadata": {},
   "outputs": [],
   "source": [
    "def printAndClear(message, sleepTime=1, newLine=False):\n",
    "  if not newLine:\n",
    "    print(f\"\\r{message}\", end=\"\", flush=True)\n",
    "    time.sleep(sleepTime)\n",
    "  else:\n",
    "    print(f\"\\r{message}\\n\\n\", end=\"\")"
   ]
  },
  {
   "cell_type": "code",
   "execution_count": 5,
   "metadata": {},
   "outputs": [],
   "source": [
    "def updateLocalData(filepath, newData=None):\n",
    "  newDataPresent = newData is not None and len(newData) > 0\n",
    "  usageData = {\n",
    "    \"calls\": {\"curr\": 0, \"diff\": 0},\n",
    "    \"tokens\": {\"curr\": 0, \"diff\": 0},\n",
    "    \"spent\": {\"curr\": 0, \"diff\": 0}\n",
    "  }\n",
    "  \n",
    "  if newDataPresent:\n",
    "    try:\n",
    "      with open(filepath, \"r\") as file:\n",
    "        localData = json.load(file)\n",
    "    except (FileNotFoundError, json.JSONDecodeError):\n",
    "      localData = []\n",
    "    \n",
    "    localDataCreatedAt = {item[\"created_at\"]: item for item in localData}\n",
    "    \n",
    "    for item in newData:\n",
    "      localDataCreatedAt[item[\"created_at\"]] = item\n",
    "    \n",
    "    with open(filepath, \"w\") as file:\n",
    "      json.dump(list(localDataCreatedAt.values()), file, indent=4)\n",
    "  \n",
    "  with shelve.open(\"usage\") as shelf:\n",
    "    for key in [\"calls\", \"tokens\", \"spent\"]:\n",
    "      if key not in shelf:\n",
    "        shelf[key] = {\"curr\": 0, \"diff\": 0}\n",
    "\n",
    "      if newDataPresent and key in newData:\n",
    "        currVal = shelf[key][\"curr\"]\n",
    "        diffVal = newData[key] - currVal\n",
    "        shelf[key] = {\"curr\": newData[key], \"diff\": diffVal}\n",
    "        \n",
    "      usageData[key][\"curr\"] = shelf[key][\"curr\"]\n",
    "      usageData[key][\"diff\"] = shelf[key][\"diff\"]\n",
    "  \n",
    "  shouldUpdate = newDataPresent or any(value[\"curr\"] != 0 or value[\"diff\"] != 0 for value in usageData.values())\n",
    "  \n",
    "  return usageData, shouldUpdate"
   ]
  },
  {
   "cell_type": "code",
   "execution_count": 6,
   "metadata": {},
   "outputs": [],
   "source": [
    "def refreshUsageData():\n",
    "  try:\n",
    "    print(\"\\033[?25l\", end=\"\")\n",
    "    startTime = time.time()\n",
    "    tryCount = 1\n",
    "    checkCount = 4\n",
    "    while time.time() - startTime < 20:\n",
    "      # newData = fetchData()\n",
    "      # if newData is not None:\n",
    "      #   try:\n",
    "      #     with open(\"./usage.json\", \"r\") as file:\n",
    "      #       localData = json.load(file)\n",
    "      #   except (FileNotFoundError, json.JSONDecodeError):\n",
    "      #     localData = []\n",
    "\n",
    "      #   if len(newData) > len(localData):\n",
    "      #     usageData, shouldUpdate = updateLocalData(\"./usage.json\", newData)\n",
    "      #     if shouldUpdate:\n",
    "      #       printAndClear(\"Token usage successfully updated with new data.\", newLine=True)\n",
    "      #       showTokenUsage(usageData)\n",
    "      #       return\n",
    "      #     else:\n",
    "      #       printAndClear(\n",
    "      #         \"No new usage data detected. Token usage remains the same.\", newLine=True\n",
    "      #       )\n",
    "      #       showTokenUsage(usageData)\n",
    "      #     else:\n",
    "      #       printAndClear(\n",
    "      #         f\"Checking for new data || Attempt {tryCount} of {checkCount} .        \"\n",
    "      #       )\n",
    "      #       printAndClear(\n",
    "      #         f\"Checking for new data || Attempt {tryCount} of {checkCount} . .      \"\n",
    "      #       )\n",
    "      #       printAndClear(\n",
    "      #         f\"Checking for new data || Attempt {tryCount} of {checkCount} . . .    \"\n",
    "      #       )\n",
    "      #       printAndClear(\n",
    "      #         f\"Checking for new data || Attempt {tryCount} of {checkCount} . . . .  \"\n",
    "      #       )\n",
    "      #       printAndClear(\n",
    "      #         f\"Checking for new data || Attempt {tryCount} of {checkCount} . . . . .\"\n",
    "      #       )\n",
    "      #       tryCount += 1\n",
    "      # else:\n",
    "      #   printAndClear(\"Failed to fetch new data. Retrying...\", 5)\n",
    "      #   checkCount -= 1\n",
    "\n",
    "\n",
    "  finally:\n",
    "    print(\"\\033[?25h\", end=\"\")"
   ]
  },
  {
   "cell_type": "code",
   "execution_count": 7,
   "metadata": {},
   "outputs": [],
   "source": [
    "def readData():\n",
    "  with open(\"usage.json\", \"r\") as file:\n",
    "    data = json.load(file)\n",
    "    calls = len(data)\n",
    "    tokens = sum(\n",
    "      (item[\"input_tokens\"] if item[\"input_tokens\"] is not None else 0)\n",
    "      + (item[\"output_tokens\"] if item[\"output_tokens\"] is not None else 0)\n",
    "      for item in data\n",
    "    )\n",
    "    spent = sum(item[\"price_of_request_in_cents\"] for item in data) / 100\n",
    "    return calls, tokens, spent"
   ]
  },
  {
   "cell_type": "code",
   "execution_count": 8,
   "metadata": {},
   "outputs": [],
   "source": [
    "def borderPrint(text):\n",
    "  padding = 10\n",
    "  width = padding * 2 + len(text)\n",
    "\n",
    "  border = printSp(f\"{'= ' * int(width / 4)}\", color=Color.BRIGHT_WHITE)\n",
    "\n",
    "  print(border)\n",
    "  print(\"\\n\" + text.center(width) + \"\\n\")\n",
    "  print(border)"
   ]
  },
  {
   "cell_type": "code",
   "execution_count": 9,
   "metadata": {},
   "outputs": [],
   "source": [
    "def displayUsageData(data):\n",
    "  printStr = \"\"\n",
    "  for key in data:\n",
    "    printStr += f\"{key.capitalize()}: {data[key]['diff']}\"\n",
    "  return printStr"
   ]
  },
  {
   "cell_type": "code",
   "execution_count": 10,
   "metadata": {},
   "outputs": [],
   "source": [
    "def showTokenUsage(data):\n",
    "  calls, tokens, spent = readData()\n",
    "\n",
    "  callsTxt = printSp(\"API CALLS:  \", color=Color.BRIGHT_WHITE)\n",
    "  tokensTxt = printSp(\"TOKENS:  \", color=Color.BRIGHT_WHITE)\n",
    "  spentTxt = printSp(\"SPENT:  \", color=Color.BRIGHT_WHITE)\n",
    "  callsVal = printSp(f\"{calls}\", style=Style.BOLD, color=Color.BRIGHT_RED)\n",
    "  tokensVal = printSp(f\"{tokens}\", style=Style.BOLD, color=Color.BRIGHT_RED)\n",
    "  spentVal = printSp(f\"{spent:.2f}\", style=Style.BOLD, color=Color.BRIGHT_RED)\n",
    "\n",
    "  divider = printSp(\"   ||   \", style=Style.BOLD, color=Color.BRIGHT_WHITE)\n",
    "\n",
    "  usageString1 = f\"{callsTxt}{callsVal}{divider}{tokensTxt}{tokensVal}{divider}{spentTxt}{spentVal}\"\n",
    "  usageString2 = displayUsageData(data)\n",
    "  \n",
    "  printStr = f\"{usageString1}\\n{usageString2}\"\n",
    "\n",
    "  borderPrint(printStr)"
   ]
  },
  {
   "cell_type": "code",
   "execution_count": 11,
   "metadata": {},
   "outputs": [
    {
     "name": "stdout",
     "output_type": "stream",
     "text": [
      "No new usage data detected. Token usage remains the same.\n",
      "\n",
      "\u001b[?25h"
     ]
    },
    {
     "ename": "UnboundLocalError",
     "evalue": "cannot access local variable 'usageData' where it is not associated with a value",
     "output_type": "error",
     "traceback": [
      "\u001b[1;31m---------------------------------------------------------------------------\u001b[0m",
      "\u001b[1;31mUnboundLocalError\u001b[0m                         Traceback (most recent call last)",
      "Cell \u001b[1;32mIn[11], line 1\u001b[0m\n\u001b[1;32m----> 1\u001b[0m \u001b[43mrefreshUsageData\u001b[49m\u001b[43m(\u001b[49m\u001b[43m)\u001b[49m\n",
      "Cell \u001b[1;32mIn[6], line 46\u001b[0m, in \u001b[0;36mrefreshUsageData\u001b[1;34m()\u001b[0m\n\u001b[0;32m     41\u001b[0m       checkCount \u001b[38;5;241m-\u001b[39m\u001b[38;5;241m=\u001b[39m \u001b[38;5;241m1\u001b[39m\n\u001b[0;32m     43\u001b[0m   printAndClear(\n\u001b[0;32m     44\u001b[0m     \u001b[38;5;124m\"\u001b[39m\u001b[38;5;124mNo new usage data detected. Token usage remains the same.\u001b[39m\u001b[38;5;124m\"\u001b[39m, newLine\u001b[38;5;241m=\u001b[39m\u001b[38;5;28;01mTrue\u001b[39;00m\n\u001b[0;32m     45\u001b[0m   )\n\u001b[1;32m---> 46\u001b[0m   showTokenUsage(\u001b[43musageData\u001b[49m)\n\u001b[0;32m     47\u001b[0m \u001b[38;5;28;01mfinally\u001b[39;00m:\n\u001b[0;32m     48\u001b[0m   \u001b[38;5;28mprint\u001b[39m(\u001b[38;5;124m\"\u001b[39m\u001b[38;5;130;01m\\033\u001b[39;00m\u001b[38;5;124m[?25h\u001b[39m\u001b[38;5;124m\"\u001b[39m, end\u001b[38;5;241m=\u001b[39m\u001b[38;5;124m\"\u001b[39m\u001b[38;5;124m\"\u001b[39m)\n",
      "\u001b[1;31mUnboundLocalError\u001b[0m: cannot access local variable 'usageData' where it is not associated with a value"
     ]
    }
   ],
   "source": [
    "refreshUsageData()"
   ]
  }
 ],
 "metadata": {
  "kernelspec": {
   "display_name": "Python 3",
   "language": "python",
   "name": "python3"
  },
  "language_info": {
   "codemirror_mode": {
    "name": "ipython",
    "version": 3
   },
   "file_extension": ".py",
   "mimetype": "text/x-python",
   "name": "python",
   "nbconvert_exporter": "python",
   "pygments_lexer": "ipython3",
   "version": "3.12.2"
  }
 },
 "nbformat": 4,
 "nbformat_minor": 2
}
