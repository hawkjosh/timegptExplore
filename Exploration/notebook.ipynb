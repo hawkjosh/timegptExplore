{
 "cells": [
  {
   "cell_type": "code",
   "execution_count": 43,
   "metadata": {},
   "outputs": [],
   "source": [
    "import os\n",
    "import json\n",
    "import time\n",
    "import shelve\n",
    "import requests\n",
    "from dotenv import load_dotenv\n",
    "\n",
    "from SpecialPrint import printSp, Style, Color"
   ]
  },
  {
   "cell_type": "code",
   "execution_count": 44,
   "metadata": {},
   "outputs": [
    {
     "data": {
      "text/plain": [
       "True"
      ]
     },
     "execution_count": 44,
     "metadata": {},
     "output_type": "execute_result"
    }
   ],
   "source": [
    "load_dotenv()"
   ]
  },
  {
   "cell_type": "code",
   "execution_count": 45,
   "metadata": {},
   "outputs": [],
   "source": [
    "def fetchData():\n",
    "    response = requests.get(os.getenv(\"USAGE_URL\"))\n",
    "    if response.status_code == 200:\n",
    "        return response.json()\n",
    "    return None"
   ]
  },
  {
   "cell_type": "code",
   "execution_count": 46,
   "metadata": {},
   "outputs": [],
   "source": [
    "def readJsonData():\n",
    "    with open(\"usage.json\", \"r\") as file:\n",
    "        data = json.load(file)\n",
    "        return data"
   ]
  },
  {
   "cell_type": "code",
   "execution_count": 47,
   "metadata": {},
   "outputs": [],
   "source": [
    "def updateJsonData():\n",
    "    apiData = fetchData()\n",
    "    oldData = readJsonData()\n",
    "\n",
    "    oldDataIds = set(item['created_at'] for item in oldData)\n",
    "    newData = [item for item in apiData if item['created_at'] not in oldDataIds]\n",
    "    \n",
    "    if newData or len(apiData) != len(oldData):\n",
    "        updatedData = oldData + newData\n",
    "        with open('usage.json', 'w') as file:\n",
    "            json.dump(updatedData, file)\n",
    "\n",
    "        return updatedData\n",
    "    else:\n",
    "        return oldData"
   ]
  },
  {
   "cell_type": "code",
   "execution_count": 48,
   "metadata": {},
   "outputs": [],
   "source": [
    "def getTotals():\n",
    "    data = readJsonData()\n",
    "\n",
    "    calls = len(data)\n",
    "    tokens = sum(\n",
    "        (item[\"input_tokens\"] if item[\"input_tokens\"] is not None else 0)\n",
    "        + (item[\"output_tokens\"] if item[\"output_tokens\"] is not None else 0)\n",
    "        for item in data\n",
    "    )\n",
    "    spent = sum(item[\"price_of_request_in_cents\"] for item in data) / 100\n",
    "\n",
    "    totalsData = {\n",
    "        \"calls\": calls,\n",
    "        \"tokens\": tokens,\n",
    "        \"spent\": spent\n",
    "    }\n",
    "    \n",
    "    return totalsData"
   ]
  },
  {
   "cell_type": "code",
   "execution_count": 49,
   "metadata": {},
   "outputs": [],
   "source": [
    "def updateShelfData():\n",
    "    totalsData = getTotals()\n",
    "    \n",
    "    shelfData = {\n",
    "        \"calls\": {\"curr\": 0, \"diff\": 0},\n",
    "        \"tokens\": {\"curr\": 0, \"diff\": 0},\n",
    "        \"spent\": {\"curr\": 0, \"diff\": 0},\n",
    "    }\n",
    "\n",
    "    with shelve.open(\"usage\") as shelf:\n",
    "        for key in [\"calls\", \"tokens\", \"spent\"]:\n",
    "            if key not in shelf:\n",
    "                shelf[key] = {\"curr\": 0, \"diff\": 0}\n",
    "            else:\n",
    "                currVal = shelf[key][\"curr\"]\n",
    "                diffVal = totalsData[key] - currVal\n",
    "                shelf[key] = {\"curr\": totalsData[key], \"diff\": diffVal}\n",
    "\n",
    "            shelfData[key][\"curr\"] = shelf[key][\"curr\"]\n",
    "            shelfData[key][\"diff\"] = shelf[key][\"diff\"]\n",
    "    \n",
    "    return shelfData"
   ]
  },
  {
   "cell_type": "code",
   "execution_count": 79,
   "metadata": {},
   "outputs": [],
   "source": [
    "def readTotals():\n",
    "    totals = {\n",
    "        \"totCalls\": 0,\n",
    "        \"totTokens\": 0,\n",
    "        \"totSpent\": 0.0,\n",
    "        \"runCalls\": 0,\n",
    "        \"runTokens\": 0,\n",
    "        \"runSpent\": 0.0,\n",
    "    }\n",
    "    with shelve.open(\"usage\") as shelf:\n",
    "        for key in [\"calls\", \"tokens\", \"spent\"]:\n",
    "            totals[f\"tot{key.capitalize()}\"] = shelf[key][\"curr\"]\n",
    "            totals[f\"run{key.capitalize()}\"] = shelf[key][\"diff\"]\n",
    "    \n",
    "    return totals"
   ]
  },
  {
   "cell_type": "code",
   "execution_count": 80,
   "metadata": {},
   "outputs": [],
   "source": [
    "def printAndClear(message, sleepTime=1, newLine=False):\n",
    "    if not newLine:\n",
    "        print(f\"\\r{message}\", end=\"\", flush=True)\n",
    "        time.sleep(sleepTime)\n",
    "    else:\n",
    "        print(f\"\\r{message}\\n\\n\", end=\"\")"
   ]
  },
  {
   "cell_type": "code",
   "execution_count": 109,
   "metadata": {},
   "outputs": [],
   "source": [
    "def borderPrint(text1, text2=None):\n",
    "    # padding = 10\n",
    "    # width = (20 + len(text1)) if text2 is None else (20 + max(len(text1), len(text2)))\n",
    "    # topBorder = printSp(f\"{'= ' * int(width / 4)}\\n\", color=Color.BRIGHT_WHITE)\n",
    "    # bottomBorder = printSp(f\"\\n{'= ' * int(width / 4)}\", color=Color.BRIGHT_WHITE)\n",
    "    \n",
    "    # print(topBorder)\n",
    "    # print(f\"{text1.center(width)}\")\n",
    "    # if text2 is not None:\n",
    "    #     print(f\"{text2.center(width)}\")\n",
    "    # print(bottomBorder)\n",
    "    \n",
    "    padding = 10\n",
    "    width = max(len(text1), len(text2) if text2 is not None else 0) + padding * 2\n",
    "    \n",
    "    topBorder = printSp(f\"{'= ' * int(width // 4)}\\n\", color=Color.BRIGHT_WHITE)\n",
    "    botBorder = printSp(f\"\\n{'= ' * int(width // 4)}\", color=Color.BRIGHT_WHITE)\n",
    "    \n",
    "    print(topBorder)\n",
    "    print(f\"{text1.center(width)}\")\n",
    "    if text2 is not None:\n",
    "        print(f\"{text2.center(width)}\")\n",
    "    print(botBorder)"
   ]
  },
  {
   "cell_type": "code",
   "execution_count": 82,
   "metadata": {},
   "outputs": [],
   "source": [
    "def showTotalUsage():\n",
    "    tots = readTotals()\n",
    "    \n",
    "    calls = tots[\"totCalls\"]\n",
    "    tokens = tots[\"totTokens\"]\n",
    "    spent = tots[\"totSpent\"]\n",
    "    \n",
    "    callsTxt = printSp(\"API CALLS:  \", color=Color.BRIGHT_WHITE)\n",
    "    callsVal = printSp(f\"{calls}\", style=Style.BOLD, color=Color.BRIGHT_RED)\n",
    "    tokensTxt = printSp(\"TOKENS:  \", color=Color.BRIGHT_WHITE)\n",
    "    tokensVal = printSp(f\"{tokens}\", style=Style.BOLD, color=Color.BRIGHT_RED)\n",
    "    spentTxt = printSp(\"SPENT:  \", color=Color.BRIGHT_WHITE)\n",
    "    spentVal = printSp(f\"{spent:.2f}\", style=Style.BOLD, color=Color.BRIGHT_RED)\n",
    "\n",
    "    divider = printSp(\"   ||   \", style=Style.BOLD, color=Color.BRIGHT_WHITE)\n",
    "\n",
    "    printStr = f\"{callsTxt}{callsVal}{divider}{tokensTxt}{tokensVal}{divider}{spentTxt}{spentVal}\"\n",
    "\n",
    "    return printStr"
   ]
  },
  {
   "cell_type": "code",
   "execution_count": 86,
   "metadata": {},
   "outputs": [],
   "source": [
    "def showRunUsage():\n",
    "    tots = readTotals()\n",
    "    \n",
    "    calls = tots[\"runCalls\"]\n",
    "    tokens = tots[\"runTokens\"]\n",
    "    spent = tots[\"runSpent\"]\n",
    "    \n",
    "    callsVal = printSp(f\"{calls}\", style=Style.BOLD, color=Color.BRIGHT_BLUE)\n",
    "    callsTxt = printSp(f\" {\"call\" if calls == 1 else \"calls\"}\", color=Color.BRIGHT_YELLOW)\n",
    "    tokensVal = printSp(f\"{tokens}\", style=Style.BOLD, color=Color.BRIGHT_BLUE)\n",
    "    tokensTxt = printSp(\" tokens\", color=Color.BRIGHT_YELLOW)\n",
    "    spentVal = printSp(f\"{spent:.2f}\", style=Style.BOLD, color=Color.BRIGHT_BLUE)\n",
    "    spentTxt = printSp(\" spent\", color=Color.BRIGHT_YELLOW)\n",
    "\n",
    "    front = printSp(\"<<  \", color=Color.BRIGHT_YELLOW)\n",
    "    back = printSp(\"  >>\", color=Color.BRIGHT_YELLOW)\n",
    "    divider = printSp(\"  ••  \", style=Style.BOLD, color=Color.BRIGHT_YELLOW)\n",
    "\n",
    "    printStr = f\"{front}{callsVal}{callsTxt}{divider}{tokensVal}{tokensTxt}{divider}{spentVal}{spentTxt}{back}\"\n",
    "\n",
    "    return printStr"
   ]
  },
  {
   "cell_type": "code",
   "execution_count": 89,
   "metadata": {},
   "outputs": [],
   "source": [
    "def showUsage(withRun=False):\n",
    "\n",
    "    totsText = showTotalUsage()\n",
    "    runText = showRunUsage()\n",
    "    \n",
    "    if withRun:\n",
    "        borderPrint(text1=totsText, text2=runText)\n",
    "    else:\n",
    "        borderPrint(text1=totsText)"
   ]
  },
  {
   "cell_type": "code",
   "execution_count": 110,
   "metadata": {},
   "outputs": [
    {
     "name": "stdout",
     "output_type": "stream",
     "text": [
      "\u001b[97m= = = = = = = = = = = = = = = = = = = = = = = = = = = = = = = = = = = = = = = = = = = \n",
      "\u001b[0m\n",
      "            \u001b[97mAPI CALLS:  \u001b[0m\u001b[1m\u001b[91m88\u001b[0m\u001b[1m\u001b[97m   ||   \u001b[0m\u001b[97mTOKENS:  \u001b[0m\u001b[1m\u001b[91m288048\u001b[0m\u001b[1m\u001b[97m   ||   \u001b[0m\u001b[97mSPENT:  \u001b[0m\u001b[1m\u001b[91m502.90\u001b[0m            \n",
      "          \u001b[93m<<  \u001b[0m\u001b[1m\u001b[94m0\u001b[0m\u001b[93m calls\u001b[0m\u001b[1m\u001b[93m  ••  \u001b[0m\u001b[1m\u001b[94m0\u001b[0m\u001b[93m tokens\u001b[0m\u001b[1m\u001b[93m  ••  \u001b[0m\u001b[1m\u001b[94m0.00\u001b[0m\u001b[93m spent\u001b[0m\u001b[93m  >>\u001b[0m          \n",
      "\u001b[97m\n",
      "= = = = = = = = = = = = = = = = = = = = = = = = = = = = = = = = = = = = = = = = = = = \u001b[0m\n"
     ]
    }
   ],
   "source": [
    "showUsage(withRun=True)"
   ]
  },
  {
   "cell_type": "code",
   "execution_count": 55,
   "metadata": {},
   "outputs": [],
   "source": [
    "def refreshUsageData():\n",
    "    startTime = time.time()\n",
    "    tryCount = 1\n",
    "    checkCount = 4\n",
    "    localData = readJsonData() \n",
    "    currTotals = findTotals()\n",
    "    \n",
    "    while time.time() - startTime < 20:\n",
    "        newData = updateJsonData()\n",
    "        totals = updateShelfData()\n",
    "        if newData is not None:\n",
    "            if len(newData) > len(localData):\n",
    "                runCalls = totals[\"calls\"][\"diff\"]\n",
    "                runTokens = totals[\"tokens\"][\"diff\"]\n",
    "                runSpent = totals[\"spent\"][\"diff\"]\n",
    "                totCalls = totals[\"calls\"][\"curr\"]\n",
    "                totTokens = totals[\"tokens\"][\"curr\"]\n",
    "                totSpent = totals[\"spent\"][\"curr\"]\n",
    "                # printAndClear(f\"Usage data successfully updated: {runCalls} {\"call\" if runCalls == 1 else \"calls\"}, {runTokens} tokens, {runSpent:.2f} spent\", newLine=True)\n",
    "                # showTotalUsage(totCalls, totTokens, totSpent)\n",
    "                printAndClear(f\"Usage data successfully updated with {runCalls} {\"call\" if runCalls == 1 else \"calls\"}\", newLine=True)\n",
    "                showUsage(totCalls, totTokens, totSpent, runCalls, runTokens, runSpent)\n",
    "                return\n",
    "            else:\n",
    "                printAndClear(\n",
    "                    f\"Checking for new data || Attempt {tryCount} of {checkCount} .        \"\n",
    "                )\n",
    "                printAndClear(\n",
    "                    f\"Checking for new data || Attempt {tryCount} of {checkCount} . .      \"\n",
    "                )\n",
    "                printAndClear(\n",
    "                    f\"Checking for new data || Attempt {tryCount} of {checkCount} . . .    \"\n",
    "                )\n",
    "                printAndClear(\n",
    "                    f\"Checking for new data || Attempt {tryCount} of {checkCount} . . . .  \"\n",
    "                )\n",
    "                printAndClear(\n",
    "                    f\"Checking for new data || Attempt {tryCount} of {checkCount} . . . . .\"\n",
    "                )\n",
    "                tryCount += 1\n",
    "        else:\n",
    "            printAndClear(\n",
    "                f\"Failed to connect with usage API. Retrying...\", 5,\n",
    "            )\n",
    "            checkCount -= 1\n",
    "    \n",
    "    printAndClear(f\"No new data detected.                              \", newLine=True)\n",
    "    # showTotalUsage(currTotals[\"calls\"], currTotals[\"tokens\"], currTotals[\"spent\"])\n",
    "    showUsage(currTotals[\"calls\"], currTotals[\"tokens\"], currTotals[\"spent\"], None, None, None)"
   ]
  }
 ],
 "metadata": {
  "kernelspec": {
   "display_name": "Python 3",
   "language": "python",
   "name": "python3"
  },
  "language_info": {
   "codemirror_mode": {
    "name": "ipython",
    "version": 3
   },
   "file_extension": ".py",
   "mimetype": "text/x-python",
   "name": "python",
   "nbconvert_exporter": "python",
   "pygments_lexer": "ipython3",
   "version": "3.12.2"
  }
 },
 "nbformat": 4,
 "nbformat_minor": 2
}
