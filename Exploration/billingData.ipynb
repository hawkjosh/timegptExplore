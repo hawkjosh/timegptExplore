{
 "cells": [
  {
   "cell_type": "code",
   "execution_count": 1,
   "metadata": {},
   "outputs": [
    {
     "data": {
      "text/plain": [
       "True"
      ]
     },
     "execution_count": 1,
     "metadata": {},
     "output_type": "execute_result"
    }
   ],
   "source": [
    "import os\n",
    "\n",
    "import pandas as pd\n",
    "\n",
    "from TokenUsage import showTokenUsage\n",
    "from dotenv import load_dotenv\n",
    "from nixtlats import TimeGPT\n",
    "\n",
    "load_dotenv()"
   ]
  },
  {
   "cell_type": "code",
   "execution_count": 2,
   "metadata": {},
   "outputs": [
    {
     "name": "stderr",
     "output_type": "stream",
     "text": [
      "INFO:nixtlats.timegpt:Happy Forecasting! :), If you have questions or need support, please email ops@nixtla.io\n"
     ]
    },
    {
     "data": {
      "text/plain": [
       "True"
      ]
     },
     "execution_count": 2,
     "metadata": {},
     "output_type": "execute_result"
    }
   ],
   "source": [
    "timegpt = TimeGPT(token=os.getenv(\"TIMEGPT_TOKEN\"))\n",
    "timegpt.validate_token()"
   ]
  },
  {
   "cell_type": "code",
   "execution_count": 3,
   "metadata": {},
   "outputs": [
    {
     "name": "stdout",
     "output_type": "stream",
     "text": [
      "\n",
      "Token usage update timed out. There was either no update or the API is down.\n",
      "\n",
      "\u001b[1;4m\u001b[37mTOTAL USAGE\u001b[0m: API Calls = \u001b[1m\u001b[94m29\u001b[0m | Tokens = \u001b[1m\u001b[94m166029\u001b[0m | Spent = \u001b[1m\u001b[94m284.28\u001b[0m\n",
      "\n"
     ]
    }
   ],
   "source": [
    "showTokenUsage()"
   ]
  },
  {
   "cell_type": "code",
   "execution_count": 4,
   "metadata": {},
   "outputs": [],
   "source": [
    "def dataPrep(dfName, csvPath, timestampCol, dfTempName, dropCol):\n",
    "\n",
    "    dfName = pd.read_csv(csvPath)\n",
    "\n",
    "    # Convert TimePeriod column to datetime and remove timezone information\n",
    "    dfName[timestampCol] = pd.to_datetime(\n",
    "        dfName[timestampCol]\n",
    "    ).dt.tz_localize(None)\n",
    "\n",
    "    # Remove unused column that causes error in TimeGPT detect_anomalies() method\n",
    "    dfTempName = dfName.drop(columns=[dropCol])\n",
    "\n",
    "    return dfTempName"
   ]
  },
  {
   "cell_type": "code",
   "execution_count": 5,
   "metadata": {},
   "outputs": [],
   "source": [
    "def runAndUpdate(dfName, csvPath, timestampCol, dfTempName, dropCol):\n",
    "    df = dataPrep(dfName, csvPath, timestampCol, dfTempName, dropCol)\n",
    "    \n",
    "    anomalies = timegpt.detect_anomalies(\n",
    "        df,\n",
    "        time_col=df.columns[0],\n",
    "        target_col=df.columns[1],\n",
    "    )\n",
    "    \n",
    "    showAnomalies = anomalies[anomalies[\"anomaly\"] == 1]\n",
    "    showUsage = showTokenUsage()\n",
    "    return showAnomalies, showUsage"
   ]
  },
  {
   "cell_type": "code",
   "execution_count": 6,
   "metadata": {},
   "outputs": [
    {
     "name": "stderr",
     "output_type": "stream",
     "text": [
      "INFO:nixtlats.timegpt:Validating inputs...\n",
      "INFO:nixtlats.timegpt:Preprocessing dataframes...\n",
      "INFO:nixtlats.timegpt:Inferred freq: D\n",
      "INFO:nixtlats.timegpt:Calling Anomaly Detector Endpoint...\n"
     ]
    },
    {
     "name": "stdout",
     "output_type": "stream",
     "text": [
      "\n",
      "\u001b[1m\u001b[33m<< Current run: \u001b[0m\u001b[1m\u001b[91m1\u001b[0m\u001b[1m\u001b[33m call made | \u001b[0m\u001b[1m\u001b[91m913\u001b[0m\u001b[1m\u001b[33m tokens used | \u001b[0m\u001b[1m\u001b[91m2.57\u001b[0m\u001b[1m\u001b[33m spent >>\u001b[0m\n",
      "\n",
      "\u001b[1;4m\u001b[37mTOTAL USAGE\u001b[0m: API Calls = \u001b[1m\u001b[94m30\u001b[0m | Tokens = \u001b[1m\u001b[94m166942\u001b[0m | Spent = \u001b[1m\u001b[94m286.85\u001b[0m\n",
      "\n"
     ]
    },
    {
     "data": {
      "text/plain": [
       "(     TimePeriod  anomaly  TimeGPT-lo-99      TimeGPT  TimeGPT-hi-99\n",
       " 87   2024-01-04        1   1.217690e+06  1487136.000   1.756582e+06\n",
       " 88   2024-01-05        1   1.197563e+06  1467008.625   1.736454e+06\n",
       " 103  2024-01-20        1   1.356944e+06  1626389.625   1.895835e+06\n",
       " 104  2024-01-21        1   1.250522e+06  1519967.250   1.789413e+06\n",
       " 129  2024-02-15        1   1.851312e+06  2120758.000   2.390204e+06,\n",
       " None)"
      ]
     },
     "execution_count": 6,
     "metadata": {},
     "output_type": "execute_result"
    }
   ],
   "source": [
    "runAndUpdate(\"billingData\", \"billing_data_sample.csv\", \"TimePeriod\", \"bdTemp\", \"Tenant\")"
   ]
  }
 ],
 "metadata": {
  "kernelspec": {
   "display_name": "myenv",
   "language": "python",
   "name": "myenv"
  },
  "language_info": {
   "codemirror_mode": {
    "name": "ipython",
    "version": 3
   },
   "file_extension": ".py",
   "mimetype": "text/x-python",
   "name": "python",
   "nbconvert_exporter": "python",
   "pygments_lexer": "ipython3",
   "version": "3.12.2"
  }
 },
 "nbformat": 4,
 "nbformat_minor": 2
}
