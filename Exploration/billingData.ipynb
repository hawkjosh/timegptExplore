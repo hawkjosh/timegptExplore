{
 "cells": [
  {
   "cell_type": "code",
   "execution_count": 1,
   "metadata": {},
   "outputs": [
    {
     "data": {
      "text/plain": [
       "True"
      ]
     },
     "execution_count": 1,
     "metadata": {},
     "output_type": "execute_result"
    }
   ],
   "source": [
    "import os\n",
    "\n",
    "import pandas as pd\n",
    "\n",
    "from UsageFetch import refreshUsageData\n",
    "from dotenv import load_dotenv\n",
    "from nixtlats import TimeGPT\n",
    "\n",
    "load_dotenv()"
   ]
  },
  {
   "cell_type": "code",
   "execution_count": 2,
   "metadata": {},
   "outputs": [
    {
     "name": "stderr",
     "output_type": "stream",
     "text": [
      "INFO:nixtlats.timegpt:Happy Forecasting! :), If you have questions or need support, please email ops@nixtla.io\n"
     ]
    },
    {
     "data": {
      "text/plain": [
       "True"
      ]
     },
     "execution_count": 2,
     "metadata": {},
     "output_type": "execute_result"
    }
   ],
   "source": [
    "timegpt = TimeGPT(token=os.getenv(\"TIMEGPT_TOKEN\"))\n",
    "timegpt.validate_token()"
   ]
  },
  {
   "cell_type": "code",
   "execution_count": 4,
   "metadata": {},
   "outputs": [
    {
     "name": "stdout",
     "output_type": "stream",
     "text": [
      "No new usage data detected. Token usage remains the same.\n",
      "\n",
      "\u001b[97m= = = = = = = = = = = = = = = = = = = = = = = = = = = = = = = = = = = = = = = = = = \u001b[0m\n",
      "\n",
      "          \u001b[97mAPI CALLS:  \u001b[0m\u001b[1m\u001b[91m36\u001b[0m\u001b[1m\u001b[97m   ||   \u001b[0m\u001b[97mTOKENS:  \u001b[0m\u001b[1m\u001b[91m177622\u001b[0m\u001b[1m\u001b[97m   ||   \u001b[0m\u001b[97mSPENT:  \u001b[0m\u001b[1m\u001b[91m303.02\u001b[0m          \n",
      "\n",
      "\u001b[97m= = = = = = = = = = = = = = = = = = = = = = = = = = = = = = = = = = = = = = = = = = \u001b[0m\n",
      "\u001b[?25h"
     ]
    }
   ],
   "source": [
    "refreshUsageData()"
   ]
  },
  {
   "cell_type": "code",
   "execution_count": 3,
   "metadata": {},
   "outputs": [],
   "source": [
    "def dataPrep(dfName, csvPath, timestampCol, dfTempName, dropCol):\n",
    "\n",
    "    dfName = pd.read_csv(csvPath)\n",
    "\n",
    "    # Convert TimePeriod column to datetime and remove timezone information\n",
    "    dfName[timestampCol] = pd.to_datetime(\n",
    "        dfName[timestampCol]\n",
    "    ).dt.tz_localize(None)\n",
    "\n",
    "    # Remove unused column that causes error in TimeGPT detect_anomalies() method\n",
    "    dfTempName = dfName.drop(columns=[dropCol])\n",
    "\n",
    "    return dfTempName"
   ]
  },
  {
   "cell_type": "code",
   "execution_count": 4,
   "metadata": {},
   "outputs": [],
   "source": [
    "def runAndUpdate(dfName, csvPath, timestampCol, dfTempName, dropCol):\n",
    "    df = dataPrep(dfName, csvPath, timestampCol, dfTempName, dropCol)\n",
    "    \n",
    "    anomalies = timegpt.detect_anomalies(\n",
    "        df,\n",
    "        time_col=df.columns[0],\n",
    "        target_col=df.columns[1],\n",
    "    )\n",
    "    \n",
    "    plot = timegpt.plot(df, anomalies, time_col=\"TimePeriod\", target_col=\"ProratedQuantity\")\n",
    "    \n",
    "    showAnomalies = anomalies[anomalies[\"anomaly\"] == 1]\n",
    "    showUsage = refreshUsageData()\n",
    "    return showAnomalies, showUsage, plot"
   ]
  },
  {
   "cell_type": "code",
   "execution_count": 5,
   "metadata": {},
   "outputs": [
    {
     "name": "stderr",
     "output_type": "stream",
     "text": [
      "INFO:nixtlats.timegpt:Validating inputs...\n",
      "INFO:nixtlats.timegpt:Preprocessing dataframes...\n",
      "INFO:nixtlats.timegpt:Inferred freq: D\n",
      "INFO:nixtlats.timegpt:Calling Anomaly Detector Endpoint...\n"
     ]
    },
    {
     "name": "stdout",
     "output_type": "stream",
     "text": [
      "No new usage data detected. Token usage remains the same.\n",
      "\n",
      "\u001b[97m= = = = = = = = = = = = = = = = = = = = = = = = = = = = = = = = = = = = = = = = = = \u001b[0m\n",
      "\n",
      "          \u001b[97mAPI CALLS:  \u001b[0m\u001b[1m\u001b[91m87\u001b[0m\u001b[1m\u001b[97m   ||   \u001b[0m\u001b[97mTOKENS:  \u001b[0m\u001b[1m\u001b[91m287135\u001b[0m\u001b[1m\u001b[97m   ||   \u001b[0m\u001b[97mSPENT:  \u001b[0m\u001b[1m\u001b[91m500.33\u001b[0m          \n",
      "\n",
      "\u001b[97m= = = = = = = = = = = = = = = = = = = = = = = = = = = = = = = = = = = = = = = = = = \u001b[0m\n",
      "\u001b[?25h"
     ]
    },
    {
     "data": {
      "text/plain": [
       "(     TimePeriod  anomaly  TimeGPT-lo-99      TimeGPT  TimeGPT-hi-99\n",
       " 87   2024-01-04        1   1.217690e+06  1487136.000   1.756582e+06\n",
       " 88   2024-01-05        1   1.197563e+06  1467008.500   1.736454e+06\n",
       " 103  2024-01-20        1   1.356944e+06  1626389.625   1.895835e+06\n",
       " 104  2024-01-21        1   1.250522e+06  1519967.250   1.789413e+06\n",
       " 129  2024-02-15        1   1.851312e+06  2120758.000   2.390204e+06,\n",
       " None,\n",
       " <Figure size 2400x350 with 1 Axes>)"
      ]
     },
     "execution_count": 5,
     "metadata": {},
     "output_type": "execute_result"
    }
   ],
   "source": [
    "runAndUpdate(\"billingData\", \"billing_data_sample.csv\", \"TimePeriod\", \"bdTemp\", \"Tenant\")"
   ]
  },
  {
   "cell_type": "code",
   "execution_count": 8,
   "metadata": {},
   "outputs": [
    {
     "name": "stdout",
     "output_type": "stream",
     "text": [
      "Token usage successfully updated with new data.\n",
      "\n",
      "\u001b[97m= = = = = = = = = = = = = = = = = = = = = = = = = = = = = = = = = = = = = = = = = = \u001b[0m\n",
      "\n",
      "          \u001b[97mAPI CALLS:  \u001b[0m\u001b[1m\u001b[91m37\u001b[0m\u001b[1m\u001b[97m   ||   \u001b[0m\u001b[97mTOKENS:  \u001b[0m\u001b[1m\u001b[91m178535\u001b[0m\u001b[1m\u001b[97m   ||   \u001b[0m\u001b[97mSPENT:  \u001b[0m\u001b[1m\u001b[91m305.59\u001b[0m          \n",
      "\n",
      "\u001b[97m= = = = = = = = = = = = = = = = = = = = = = = = = = = = = = = = = = = = = = = = = = \u001b[0m\n",
      "\u001b[?25h"
     ]
    }
   ],
   "source": [
    "refreshUsageData()"
   ]
  },
  {
   "cell_type": "code",
   "execution_count": null,
   "metadata": {},
   "outputs": [],
   "source": []
  }
 ],
 "metadata": {
  "kernelspec": {
   "display_name": "Python 3",
   "language": "python",
   "name": "python3"
  },
  "language_info": {
   "codemirror_mode": {
    "name": "ipython",
    "version": 3
   },
   "file_extension": ".py",
   "mimetype": "text/x-python",
   "name": "python",
   "nbconvert_exporter": "python",
   "pygments_lexer": "ipython3",
   "version": "3.12.2"
  }
 },
 "nbformat": 4,
 "nbformat_minor": 2
}
