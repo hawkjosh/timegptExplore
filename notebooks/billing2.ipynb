{
 "cells": [
  {
   "cell_type": "code",
   "execution_count": 1,
   "metadata": {},
   "outputs": [
    {
     "data": {
      "text/plain": [
       "True"
      ]
     },
     "execution_count": 1,
     "metadata": {},
     "output_type": "execute_result"
    }
   ],
   "source": [
    "import os\n",
    "\n",
    "import pandas as pd\n",
    "import numpy as np\n",
    "\n",
    "from dotenv import load_dotenv\n",
    "from nixtlats import TimeGPT\n",
    "from usageUtils import getUsageData\n",
    "from IPython.display import Markdown\n",
    "\n",
    "load_dotenv()"
   ]
  },
  {
   "cell_type": "code",
   "execution_count": 2,
   "metadata": {},
   "outputs": [
    {
     "name": "stderr",
     "output_type": "stream",
     "text": [
      "INFO:nixtlats.timegpt:Happy Forecasting! :), If you have questions or need support, please email ops@nixtla.io\n"
     ]
    },
    {
     "data": {
      "text/plain": [
       "True"
      ]
     },
     "execution_count": 2,
     "metadata": {},
     "output_type": "execute_result"
    }
   ],
   "source": [
    "timegpt = TimeGPT(token=os.getenv(\"TIMEGPT_TOKEN\"))\n",
    "\n",
    "timegpt.validate_token()"
   ]
  },
  {
   "cell_type": "code",
   "execution_count": 3,
   "metadata": {},
   "outputs": [
    {
     "name": "stdout",
     "output_type": "stream",
     "text": [
      "Current usage data:\n",
      "\n",
      "\u001b[97m= = = = = = = = = = = = = = = = = = = = = = = = = = = = = = = = = = = = = = = = = = = \u001b[0m\n",
      "\n",
      "          \u001b[97mAPI CALLS:  \u001b[0m\u001b[1m\u001b[91m158\u001b[0m\u001b[1m\u001b[97m   ||   \u001b[0m\u001b[97mTOKENS:  \u001b[0m\u001b[1m\u001b[91m549202\u001b[0m\u001b[1m\u001b[97m   ||   \u001b[0m\u001b[97mSPENT:  \u001b[0m\u001b[1m\u001b[91m910.12\u001b[0m          \n",
      "\n",
      "\u001b[97m= = = = = = = = = = = = = = = = = = = = = = = = = = = = = = = = = = = = = = = = = = = \u001b[0m\n"
     ]
    }
   ],
   "source": [
    "# Get current API token usage data\n",
    "\n",
    "getUsageData()"
   ]
  },
  {
   "cell_type": "code",
   "execution_count": 4,
   "metadata": {},
   "outputs": [],
   "source": [
    "# DATA PREP: Create dataframe from csv file, convert 'TimePeriod' column to timezone-naive datetime, remove uneccessary columns, save to csv file, create new dataframe from csv file, return new dataframe\n",
    "\n",
    "def dataPrep(dfName, csvName, timeCol, dropCols, csvNameUpdate):\n",
    "    dfName = pd.read_csv(csvName)\n",
    "    dfName[timeCol] = pd.to_datetime(dfName[timeCol]).dt.tz_localize(None)\n",
    "    dfName = dfName.drop(columns=dropCols)\n",
    "    dfName.to_csv(csvNameUpdate, index=False)\n",
    "    dfName = pd.read_csv(csvNameUpdate)\n",
    "    return dfName"
   ]
  },
  {
   "cell_type": "code",
   "execution_count": 5,
   "metadata": {},
   "outputs": [
    {
     "data": {
      "text/html": [
       "<div>\n",
       "<style scoped>\n",
       "    .dataframe tbody tr th:only-of-type {\n",
       "        vertical-align: middle;\n",
       "    }\n",
       "\n",
       "    .dataframe tbody tr th {\n",
       "        vertical-align: top;\n",
       "    }\n",
       "\n",
       "    .dataframe thead th {\n",
       "        text-align: right;\n",
       "    }\n",
       "</style>\n",
       "<table border=\"1\" class=\"dataframe\">\n",
       "  <thead>\n",
       "    <tr style=\"text-align: right;\">\n",
       "      <th></th>\n",
       "      <th>TimePeriod</th>\n",
       "      <th>ProratedQuantity</th>\n",
       "    </tr>\n",
       "  </thead>\n",
       "  <tbody>\n",
       "    <tr>\n",
       "      <th>0</th>\n",
       "      <td>2023-09-14</td>\n",
       "      <td>93218.526165</td>\n",
       "    </tr>\n",
       "    <tr>\n",
       "      <th>1</th>\n",
       "      <td>2023-09-15</td>\n",
       "      <td>104783.771445</td>\n",
       "    </tr>\n",
       "    <tr>\n",
       "      <th>2</th>\n",
       "      <td>2023-09-16</td>\n",
       "      <td>97060.344313</td>\n",
       "    </tr>\n",
       "    <tr>\n",
       "      <th>3</th>\n",
       "      <td>2023-09-17</td>\n",
       "      <td>96852.455640</td>\n",
       "    </tr>\n",
       "    <tr>\n",
       "      <th>4</th>\n",
       "      <td>2023-09-18</td>\n",
       "      <td>110037.811158</td>\n",
       "    </tr>\n",
       "  </tbody>\n",
       "</table>\n",
       "</div>"
      ],
      "text/plain": [
       "   TimePeriod  ProratedQuantity\n",
       "0  2023-09-14      93218.526165\n",
       "1  2023-09-15     104783.771445\n",
       "2  2023-09-16      97060.344313\n",
       "3  2023-09-17      96852.455640\n",
       "4  2023-09-18     110037.811158"
      ]
     },
     "metadata": {},
     "output_type": "display_data"
    }
   ],
   "source": [
    "# Run dataPrep function on sample data\n",
    "\n",
    "df = dataPrep(\n",
    "    dfName=\"df\",\n",
    "    csvName=\"../data/raw/billing2_raw.csv\",\n",
    "    timeCol=\"TimePeriod\",\n",
    "    dropCols=[\"Tenant\"],\n",
    "    csvNameUpdate=\"../data/clean/billing2_clean.csv\"\n",
    ")\n",
    "\n",
    "display(df.head())"
   ]
  },
  {
   "cell_type": "code",
   "execution_count": 8,
   "metadata": {},
   "outputs": [
    {
     "name": "stderr",
     "output_type": "stream",
     "text": [
      "INFO:nixtlats.timegpt:Validating inputs...\n",
      "INFO:nixtlats.timegpt:Preprocessing dataframes...\n",
      "INFO:nixtlats.timegpt:Calling Anomaly Detector Endpoint...\n"
     ]
    },
    {
     "data": {
      "text/markdown": [
       "### Anomalies Detection Result (Default 99% Prediction Interval Level)"
      ],
      "text/plain": [
       "<IPython.core.display.Markdown object>"
      ]
     },
     "metadata": {},
     "output_type": "display_data"
    },
    {
     "data": {
      "text/html": [
       "<div>\n",
       "<style scoped>\n",
       "    .dataframe tbody tr th:only-of-type {\n",
       "        vertical-align: middle;\n",
       "    }\n",
       "\n",
       "    .dataframe tbody tr th {\n",
       "        vertical-align: top;\n",
       "    }\n",
       "\n",
       "    .dataframe thead th {\n",
       "        text-align: right;\n",
       "    }\n",
       "</style>\n",
       "<table border=\"1\" class=\"dataframe\">\n",
       "  <thead>\n",
       "    <tr style=\"text-align: right;\">\n",
       "      <th></th>\n",
       "      <th>TimePeriod</th>\n",
       "      <th>anomaly</th>\n",
       "      <th>TimeGPT-lo-99</th>\n",
       "      <th>TimeGPT</th>\n",
       "      <th>TimeGPT-hi-99</th>\n",
       "    </tr>\n",
       "  </thead>\n",
       "  <tbody>\n",
       "    <tr>\n",
       "      <th>0</th>\n",
       "      <td>2023-10-16</td>\n",
       "      <td>0</td>\n",
       "      <td>103994.822666</td>\n",
       "      <td>123016.968750</td>\n",
       "      <td>142039.114834</td>\n",
       "    </tr>\n",
       "    <tr>\n",
       "      <th>1</th>\n",
       "      <td>2023-10-17</td>\n",
       "      <td>0</td>\n",
       "      <td>110264.611729</td>\n",
       "      <td>129286.757812</td>\n",
       "      <td>148308.903896</td>\n",
       "    </tr>\n",
       "    <tr>\n",
       "      <th>2</th>\n",
       "      <td>2023-10-18</td>\n",
       "      <td>0</td>\n",
       "      <td>112312.760166</td>\n",
       "      <td>131334.906250</td>\n",
       "      <td>150357.052334</td>\n",
       "    </tr>\n",
       "    <tr>\n",
       "      <th>3</th>\n",
       "      <td>2023-10-19</td>\n",
       "      <td>0</td>\n",
       "      <td>107988.775791</td>\n",
       "      <td>127010.921875</td>\n",
       "      <td>146033.067959</td>\n",
       "    </tr>\n",
       "    <tr>\n",
       "      <th>4</th>\n",
       "      <td>2023-10-20</td>\n",
       "      <td>0</td>\n",
       "      <td>107433.963291</td>\n",
       "      <td>126456.109375</td>\n",
       "      <td>145478.255459</td>\n",
       "    </tr>\n",
       "    <tr>\n",
       "      <th>...</th>\n",
       "      <td>...</td>\n",
       "      <td>...</td>\n",
       "      <td>...</td>\n",
       "      <td>...</td>\n",
       "      <td>...</td>\n",
       "    </tr>\n",
       "    <tr>\n",
       "      <th>142</th>\n",
       "      <td>2024-03-06</td>\n",
       "      <td>0</td>\n",
       "      <td>49269.064854</td>\n",
       "      <td>68291.210938</td>\n",
       "      <td>87313.357021</td>\n",
       "    </tr>\n",
       "    <tr>\n",
       "      <th>143</th>\n",
       "      <td>2024-03-07</td>\n",
       "      <td>0</td>\n",
       "      <td>49232.057041</td>\n",
       "      <td>68254.203125</td>\n",
       "      <td>87276.349209</td>\n",
       "    </tr>\n",
       "    <tr>\n",
       "      <th>144</th>\n",
       "      <td>2024-03-08</td>\n",
       "      <td>0</td>\n",
       "      <td>48854.353916</td>\n",
       "      <td>67876.500000</td>\n",
       "      <td>86898.646084</td>\n",
       "    </tr>\n",
       "    <tr>\n",
       "      <th>145</th>\n",
       "      <td>2024-03-09</td>\n",
       "      <td>0</td>\n",
       "      <td>48782.830479</td>\n",
       "      <td>67804.976562</td>\n",
       "      <td>86827.122646</td>\n",
       "    </tr>\n",
       "    <tr>\n",
       "      <th>146</th>\n",
       "      <td>2024-03-10</td>\n",
       "      <td>0</td>\n",
       "      <td>49029.596104</td>\n",
       "      <td>68051.742188</td>\n",
       "      <td>87073.888271</td>\n",
       "    </tr>\n",
       "  </tbody>\n",
       "</table>\n",
       "<p>147 rows × 5 columns</p>\n",
       "</div>"
      ],
      "text/plain": [
       "     TimePeriod  anomaly  TimeGPT-lo-99        TimeGPT  TimeGPT-hi-99\n",
       "0    2023-10-16        0  103994.822666  123016.968750  142039.114834\n",
       "1    2023-10-17        0  110264.611729  129286.757812  148308.903896\n",
       "2    2023-10-18        0  112312.760166  131334.906250  150357.052334\n",
       "3    2023-10-19        0  107988.775791  127010.921875  146033.067959\n",
       "4    2023-10-20        0  107433.963291  126456.109375  145478.255459\n",
       "..          ...      ...            ...            ...            ...\n",
       "142  2024-03-06        0   49269.064854   68291.210938   87313.357021\n",
       "143  2024-03-07        0   49232.057041   68254.203125   87276.349209\n",
       "144  2024-03-08        0   48854.353916   67876.500000   86898.646084\n",
       "145  2024-03-09        0   48782.830479   67804.976562   86827.122646\n",
       "146  2024-03-10        0   49029.596104   68051.742188   87073.888271\n",
       "\n",
       "[147 rows x 5 columns]"
      ]
     },
     "metadata": {},
     "output_type": "display_data"
    },
    {
     "data": {
      "text/markdown": [
       "### Detected Anomalies (Default 99% Prediction Interval Level)"
      ],
      "text/plain": [
       "<IPython.core.display.Markdown object>"
      ]
     },
     "metadata": {},
     "output_type": "display_data"
    },
    {
     "data": {
      "text/html": [
       "<div>\n",
       "<style scoped>\n",
       "    .dataframe tbody tr th:only-of-type {\n",
       "        vertical-align: middle;\n",
       "    }\n",
       "\n",
       "    .dataframe tbody tr th {\n",
       "        vertical-align: top;\n",
       "    }\n",
       "\n",
       "    .dataframe thead th {\n",
       "        text-align: right;\n",
       "    }\n",
       "</style>\n",
       "<table border=\"1\" class=\"dataframe\">\n",
       "  <thead>\n",
       "    <tr style=\"text-align: right;\">\n",
       "      <th></th>\n",
       "      <th>TimePeriod</th>\n",
       "      <th>anomaly</th>\n",
       "      <th>TimeGPT-lo-99</th>\n",
       "      <th>TimeGPT</th>\n",
       "      <th>TimeGPT-hi-99</th>\n",
       "    </tr>\n",
       "  </thead>\n",
       "  <tbody>\n",
       "    <tr>\n",
       "      <th>8</th>\n",
       "      <td>2023-10-24</td>\n",
       "      <td>1</td>\n",
       "      <td>104763.033604</td>\n",
       "      <td>123785.179688</td>\n",
       "      <td>142807.325771</td>\n",
       "    </tr>\n",
       "    <tr>\n",
       "      <th>9</th>\n",
       "      <td>2023-10-25</td>\n",
       "      <td>1</td>\n",
       "      <td>107263.025791</td>\n",
       "      <td>126285.171875</td>\n",
       "      <td>145307.317959</td>\n",
       "    </tr>\n",
       "    <tr>\n",
       "      <th>10</th>\n",
       "      <td>2023-10-26</td>\n",
       "      <td>1</td>\n",
       "      <td>102314.541416</td>\n",
       "      <td>121336.687500</td>\n",
       "      <td>140358.833584</td>\n",
       "    </tr>\n",
       "    <tr>\n",
       "      <th>12</th>\n",
       "      <td>2023-10-28</td>\n",
       "      <td>1</td>\n",
       "      <td>100271.603916</td>\n",
       "      <td>119293.750000</td>\n",
       "      <td>138315.896084</td>\n",
       "    </tr>\n",
       "    <tr>\n",
       "      <th>13</th>\n",
       "      <td>2023-10-29</td>\n",
       "      <td>1</td>\n",
       "      <td>100967.260166</td>\n",
       "      <td>119989.406250</td>\n",
       "      <td>139011.552334</td>\n",
       "    </tr>\n",
       "    <tr>\n",
       "      <th>18</th>\n",
       "      <td>2023-11-03</td>\n",
       "      <td>1</td>\n",
       "      <td>83249.111729</td>\n",
       "      <td>102271.257812</td>\n",
       "      <td>121293.403896</td>\n",
       "    </tr>\n",
       "  </tbody>\n",
       "</table>\n",
       "</div>"
      ],
      "text/plain": [
       "    TimePeriod  anomaly  TimeGPT-lo-99        TimeGPT  TimeGPT-hi-99\n",
       "8   2023-10-24        1  104763.033604  123785.179688  142807.325771\n",
       "9   2023-10-25        1  107263.025791  126285.171875  145307.317959\n",
       "10  2023-10-26        1  102314.541416  121336.687500  140358.833584\n",
       "12  2023-10-28        1  100271.603916  119293.750000  138315.896084\n",
       "13  2023-10-29        1  100967.260166  119989.406250  139011.552334\n",
       "18  2023-11-03        1   83249.111729  102271.257812  121293.403896"
      ]
     },
     "metadata": {},
     "output_type": "display_data"
    },
    {
     "data": {
      "text/markdown": [
       "### Results Comparison Plot (Default 99% Prediction Interval Level)"
      ],
      "text/plain": [
       "<IPython.core.display.Markdown object>"
      ]
     },
     "metadata": {},
     "output_type": "display_data"
    },
    {
     "data": {
      "image/png": "[encoded data removed]",
      "text/plain": [
       "<Figure size 2400x350 with 1 Axes>"
      ]
     },
     "metadata": {},
     "output_type": "display_data"
    }
   ],
   "source": [
    "# Run anomaly detection model, plot results compared with original data (default prediction interval level is 99)\n",
    "\n",
    "dfAnoms = timegpt.detect_anomalies(\n",
    "    df, time_col=\"TimePeriod\", target_col=\"ProratedQuantity\", freq=\"D\"\n",
    ")\n",
    "\n",
    "dfAnomsOnly = dfAnoms[dfAnoms[\"anomaly\"] == 1]\n",
    "\n",
    "plotAnoms = timegpt.plot(\n",
    "    df, dfAnoms, time_col=\"TimePeriod\", target_col=\"ProratedQuantity\"\n",
    ")\n",
    "\n",
    "display(\n",
    "    Markdown(\"### Anomalies Detection Result (Default 99% Prediction Interval Level)\"),\n",
    "    dfAnoms,\n",
    "    Markdown(\"### Detected Anomalies (Default 99% Prediction Interval Level)\"),\n",
    "    dfAnomsOnly,\n",
    "    Markdown(\"### Results Comparison Plot (Default 99% Prediction Interval Level)\"),\n",
    "    plotAnoms,\n",
    ")"
   ]
  },
  {
   "cell_type": "code",
   "execution_count": 9,
   "metadata": {},
   "outputs": [
    {
     "name": "stdout",
     "output_type": "stream",
     "text": [
      "Usage data successfully updated with: 4 . . . . .\n",
      "\u001b[93m<<  \u001b[0m\u001b[1m\u001b[94m1\u001b[0m\u001b[93m call\u001b[0m\u001b[1m\u001b[93m  ••  \u001b[0m\u001b[1m\u001b[94m914\u001b[0m\u001b[93m tokens\u001b[0m\u001b[1m\u001b[93m  ••  \u001b[0m\u001b[1m\u001b[94m2.57\u001b[0m\u001b[93m spent\u001b[0m\u001b[93m  >>\u001b[0m\n",
      "\n",
      "\u001b[97m= = = = = = = = = = = = = = = = = = = = = = = = = = = = = = = = = = = = = = = = = = = \u001b[0m\n",
      "\n",
      "          \u001b[97mAPI CALLS:  \u001b[0m\u001b[1m\u001b[91m160\u001b[0m\u001b[1m\u001b[97m   ||   \u001b[0m\u001b[97mTOKENS:  \u001b[0m\u001b[1m\u001b[91m551030\u001b[0m\u001b[1m\u001b[97m   ||   \u001b[0m\u001b[97mSPENT:  \u001b[0m\u001b[1m\u001b[91m915.26\u001b[0m          \n",
      "\n",
      "\u001b[97m= = = = = = = = = = = = = = = = = = = = = = = = = = = = = = = = = = = = = = = = = = = \u001b[0m\n"
     ]
    }
   ],
   "source": [
    "getUsageData(update=True)"
   ]
  },
  {
   "cell_type": "code",
   "execution_count": null,
   "metadata": {},
   "outputs": [],
   "source": [
    "# Get historical prediction intervals to test against detected anomalies\n",
    "\n",
    "dfFcst = timegpt.forecast(\n",
    "    df, h=1, time_col=\"TimePeriod\", target_col=\"ProratedQuantity\", freq=\"D\", add_history=True, level=[99, 90, 99.99],\n",
    ")\n",
    "\n",
    "dfFcst = dfFcst.merge(df)\n",
    "\n",
    "for lv in [99, 90, 99.99]:\n",
    "    dfFcst[f\"anomaly_{lv}\"] = (\n",
    "        dfFcst[\"ProratedQuantity\"] > dfFcst[f\"TimeGPT-hi-{lv}\"]\n",
    "    ) | (\n",
    "        dfFcst[\"ProratedQuantity\"] < dfFcst[f\"TimeGPT-lo-{lv}\"]\n",
    "    )\n",
    "\n",
    "    dfFcst[f\"anomaly_{lv}\"] = dfFcst[f\"anomaly_{lv}\"].astype(np.int64)"
   ]
  },
  {
   "cell_type": "code",
   "execution_count": null,
   "metadata": {},
   "outputs": [],
   "source": [
    "# Test detected anomalies against historical prediction intervals defalut level 99\n",
    "\n",
    "pd.testing.assert_series_equal(\n",
    "    dfFcst[\"anomaly_99\"],\n",
    "    dfAnoms.merge(df)[\"anomaly\"],\n",
    "    check_index=False,\n",
    "    check_names=False,\n",
    ")"
   ]
  },
  {
   "cell_type": "code",
   "execution_count": null,
   "metadata": {},
   "outputs": [],
   "source": [
    "# Run anomaly detection model, plot results compared with original data (prediction interval level 90 should identify more anomalies)\n",
    "\n",
    "dfAnoms90 = timegpt.detect_anomalies(\n",
    "    df, time_col=\"TimePeriod\", target_col=\"ProratedQuantity\", freq=\"D\", level=90\n",
    ")\n",
    "\n",
    "dfAnomsOnly90 = dfAnoms[dfAnoms[\"anomaly\"] == 1]\n",
    "\n",
    "plotAnoms90 = timegpt.plot(\n",
    "    df, dfAnoms90, time_col=\"TimePeriod\", target_col=\"ProratedQuantity\"\n",
    ")\n",
    "\n",
    "display(\n",
    "    Markdown(\"### Anomalies Detection Result (90% Prediction Interval Level)\"),\n",
    "    dfAnoms90,\n",
    "    Markdown(\"### Detected Anomalies (90% Prediction Interval Level)\"),\n",
    "    dfAnomsOnly90,\n",
    "    Markdown(\"### Results Comparison Plot (90% Prediction Interval Level)\"),\n",
    "    plotAnoms90,\n",
    ")"
   ]
  },
  {
   "cell_type": "code",
   "execution_count": null,
   "metadata": {},
   "outputs": [],
   "source": [
    "# Test detected anomalies against historical prediction interval level 90\n",
    "\n",
    "pd.testing.assert_series_equal(\n",
    "    dfFcst[\"anomaly_90\"],\n",
    "    dfAnoms90.merge(df)[\"anomaly\"],\n",
    "    check_index=False,\n",
    "    check_names=False,\n",
    ")"
   ]
  },
  {
   "cell_type": "code",
   "execution_count": null,
   "metadata": {},
   "outputs": [],
   "source": [
    "# Run anomaly detection model, plot results compared with original data (prediction interval level 99.99 should identify fewer anomalies)\n",
    "\n",
    "dfAnoms99_99 = timegpt.detect_anomalies(\n",
    "    df, time_col=\"TimePeriod\", target_col=\"ProratedQuantity\", freq=\"D\", level=99.99,\n",
    ")\n",
    "\n",
    "dfAnomsOnly99_99 = dfAnoms99_99[dfAnoms99_99[\"anomaly\"] == 1]\n",
    "\n",
    "plotAnoms99_99 = timegpt.plot(\n",
    "    df, dfAnoms99_99, time_col=\"TimePeriod\", target_col=\"ProratedQuantity\"\n",
    ")\n",
    "\n",
    "display(\n",
    "    Markdown(\"### Anomalies Detection Result (99.99% Prediction Interval Level)\"),\n",
    "    dfAnoms99_99,\n",
    "    Markdown(\"### Detected Anomalies (99.99% Prediction Interval Level)\"),\n",
    "    dfAnomsOnly99_99,\n",
    "    Markdown(\"### Results Comparison Plot (99.99% Prediction Interval Level)\"),\n",
    "    plotAnoms99_99,\n",
    ")"
   ]
  },
  {
   "cell_type": "code",
   "execution_count": null,
   "metadata": {},
   "outputs": [],
   "source": [
    "# Test detected anomalies against historical prediction interval level 99.99\n",
    "\n",
    "pd.testing.assert_series_equal(\n",
    "    dfFcst[\"anomaly_99.99\"],\n",
    "    dfAnoms99_99.merge(df)[\"anomaly\"],\n",
    "    check_index=False,\n",
    "    check_names=False,\n",
    ")"
   ]
  },
  {
   "cell_type": "code",
   "execution_count": null,
   "metadata": {},
   "outputs": [],
   "source": [
    "# Get historical prediction intervals to test against detected anomalies with exogenous variables\n",
    "\n",
    "dfFcstX = timegpt.forecast(\n",
    "    df, h=1, time_col=\"TimePeriod\", target_col=\"ProratedQuantity\", freq=\"D\", add_history=True, date_features=True, level=[99, 90, 99.99],\n",
    ")\n",
    "\n",
    "dfFcstX = dfFcstX.merge(df)\n",
    "\n",
    "for lv in [99, 90, 99.99]:\n",
    "    dfFcstX[f\"anomaly_{lv}\"] = (\n",
    "        dfFcstX[\"ProratedQuantity\"] > dfFcstX[f\"TimeGPT-hi-{lv}\"]\n",
    "    ) | (\n",
    "        dfFcstX[\"ProratedQuantity\"] < dfFcstX[f\"TimeGPT-lo-{lv}\"]\n",
    "    )\n",
    "\n",
    "    dfFcstX[f\"anomaly_{lv}\"] = dfFcstX[f\"anomaly_{lv}\"].astype(np.int64)"
   ]
  },
  {
   "cell_type": "code",
   "execution_count": null,
   "metadata": {},
   "outputs": [],
   "source": [
    "# Run anomaly detection model with exogeneous variables, plot results compared with original data (prediction interval level 99.99 should identify fewer anomalies)\n",
    "\n",
    "dfAnomsX99_99 = timegpt.detect_anomalies(\n",
    "    df, time_col=\"TimePeriod\", target_col=\"ProratedQuantity\", freq=\"D\", date_features=True, level=99.99,\n",
    ")\n",
    "\n",
    "dfAnomsOnlyX99_99 = dfAnomsX99_99[dfAnomsX99_99[\"anomaly\"] == 1]\n",
    "\n",
    "plotAnomsX99_99 = timegpt.plot(\n",
    "    df, dfAnomsX99_99, time_col=\"TimePeriod\", target_col=\"ProratedQuantity\"\n",
    ")\n",
    "\n",
    "display(\n",
    "    Markdown(\"### Anomalies Detection Result (99.99% Prediction Interval Level with Exogeneous Variables)\"),\n",
    "    dfAnomsX99_99,\n",
    "    Markdown(\"### Detected Anomalies (99.99% Prediction Interval Level with Exogeneous Variables)\"),\n",
    "    dfAnomsOnlyX99_99,\n",
    "    Markdown(\"### Results Comparison Plot (99.99% Prediction Interval Level with Exogeneous Variables)\"),\n",
    "    plotAnomsX99_99,\n",
    ")"
   ]
  },
  {
   "cell_type": "code",
   "execution_count": null,
   "metadata": {},
   "outputs": [],
   "source": [
    "# Test detected anomalies with exogeneous variables against historical prediction interval level 99.99\n",
    "\n",
    "pd.testing.assert_series_equal(\n",
    "    dfFcstX[\"TimeGPT-lo-99.99\"],\n",
    "    dfAnomsX99_99.merge(df)[\"TimeGPT-lo-99.99\"],\n",
    "    check_index=False,\n",
    "    check_names=False,\n",
    "    rtol=1,\n",
    "    atol=1,\n",
    ")"
   ]
  },
  {
   "cell_type": "code",
   "execution_count": null,
   "metadata": {},
   "outputs": [],
   "source": [
    "# Get updated API token usage data\n",
    "\n",
    "getUsageData(update=True)"
   ]
  }
 ],
 "metadata": {
  "kernelspec": {
   "display_name": ".venv",
   "language": "python",
   "name": "python3"
  },
  "language_info": {
   "codemirror_mode": {
    "name": "ipython",
    "version": 3
   },
   "file_extension": ".py",
   "mimetype": "text/x-python",
   "name": "python",
   "nbconvert_exporter": "python",
   "pygments_lexer": "ipython3",
   "version": "3.12.2"
  }
 },
 "nbformat": 4,
 "nbformat_minor": 2
}
